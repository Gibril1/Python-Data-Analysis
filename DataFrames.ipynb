{
 "cells": [
  {
   "cell_type": "code",
   "execution_count": 4,
   "id": "20bd79ca",
   "metadata": {},
   "outputs": [],
   "source": [
    "import numpy as np\n",
    "import pandas as pd"
   ]
  },
  {
   "cell_type": "markdown",
   "id": "d98fc068",
   "metadata": {},
   "source": [
    "# Creating DataFrames\n",
    "## Option 1\n"
   ]
  },
  {
   "cell_type": "code",
   "execution_count": 6,
   "id": "263269d7",
   "metadata": {},
   "outputs": [],
   "source": [
    "# creating an array\n",
    "data = np.array([[1,4],[2,5], [3,6]])"
   ]
  },
  {
   "cell_type": "code",
   "execution_count": 13,
   "id": "b364eae9",
   "metadata": {},
   "outputs": [],
   "source": [
    "# creating a dataframe\n",
    "# the additional arguments helps us to name the columns and the rows. The first argument is the data needed to create the dataframe\n",
    "df= pd.DataFrame(data, index=['row1','row2','row3'],\n",
    "                columns=['col1','col2'])"
   ]
  },
  {
   "cell_type": "code",
   "execution_count": 15,
   "id": "cf89170f",
   "metadata": {},
   "outputs": [
    {
     "data": {
      "text/html": [
       "<div>\n",
       "<style scoped>\n",
       "    .dataframe tbody tr th:only-of-type {\n",
       "        vertical-align: middle;\n",
       "    }\n",
       "\n",
       "    .dataframe tbody tr th {\n",
       "        vertical-align: top;\n",
       "    }\n",
       "\n",
       "    .dataframe thead th {\n",
       "        text-align: right;\n",
       "    }\n",
       "</style>\n",
       "<table border=\"1\" class=\"dataframe\">\n",
       "  <thead>\n",
       "    <tr style=\"text-align: right;\">\n",
       "      <th></th>\n",
       "      <th>col1</th>\n",
       "      <th>col2</th>\n",
       "    </tr>\n",
       "  </thead>\n",
       "  <tbody>\n",
       "    <tr>\n",
       "      <th>row1</th>\n",
       "      <td>1</td>\n",
       "      <td>4</td>\n",
       "    </tr>\n",
       "    <tr>\n",
       "      <th>row2</th>\n",
       "      <td>2</td>\n",
       "      <td>5</td>\n",
       "    </tr>\n",
       "    <tr>\n",
       "      <th>row3</th>\n",
       "      <td>3</td>\n",
       "      <td>6</td>\n",
       "    </tr>\n",
       "  </tbody>\n",
       "</table>\n",
       "</div>"
      ],
      "text/plain": [
       "      col1  col2\n",
       "row1     1     4\n",
       "row2     2     5\n",
       "row3     3     6"
      ]
     },
     "execution_count": 15,
     "metadata": {},
     "output_type": "execute_result"
    }
   ],
   "source": [
    "# showing the dataframe\n",
    "df"
   ]
  },
  {
   "cell_type": "markdown",
   "id": "cdaa06ed",
   "metadata": {},
   "source": [
    "## Option 2"
   ]
  },
  {
   "cell_type": "code",
   "execution_count": 16,
   "id": "c7ba8a53",
   "metadata": {},
   "outputs": [],
   "source": [
    "# creating an array with a list shape\n",
    "data = [[1,4],[2,5], [3,6]]"
   ]
  },
  {
   "cell_type": "code",
   "execution_count": 17,
   "id": "25af354a",
   "metadata": {},
   "outputs": [],
   "source": [
    "# creating a new dataframe\n",
    "df= pd.DataFrame(data, index=['row1','row2','row3'],\n",
    "                columns=['col1','col2'])"
   ]
  },
  {
   "cell_type": "code",
   "execution_count": 18,
   "id": "24169a92",
   "metadata": {},
   "outputs": [
    {
     "data": {
      "text/html": [
       "<div>\n",
       "<style scoped>\n",
       "    .dataframe tbody tr th:only-of-type {\n",
       "        vertical-align: middle;\n",
       "    }\n",
       "\n",
       "    .dataframe tbody tr th {\n",
       "        vertical-align: top;\n",
       "    }\n",
       "\n",
       "    .dataframe thead th {\n",
       "        text-align: right;\n",
       "    }\n",
       "</style>\n",
       "<table border=\"1\" class=\"dataframe\">\n",
       "  <thead>\n",
       "    <tr style=\"text-align: right;\">\n",
       "      <th></th>\n",
       "      <th>col1</th>\n",
       "      <th>col2</th>\n",
       "    </tr>\n",
       "  </thead>\n",
       "  <tbody>\n",
       "    <tr>\n",
       "      <th>row1</th>\n",
       "      <td>1</td>\n",
       "      <td>4</td>\n",
       "    </tr>\n",
       "    <tr>\n",
       "      <th>row2</th>\n",
       "      <td>2</td>\n",
       "      <td>5</td>\n",
       "    </tr>\n",
       "    <tr>\n",
       "      <th>row3</th>\n",
       "      <td>3</td>\n",
       "      <td>6</td>\n",
       "    </tr>\n",
       "  </tbody>\n",
       "</table>\n",
       "</div>"
      ],
      "text/plain": [
       "      col1  col2\n",
       "row1     1     4\n",
       "row2     2     5\n",
       "row3     3     6"
      ]
     },
     "execution_count": 18,
     "metadata": {},
     "output_type": "execute_result"
    }
   ],
   "source": [
    "# showcasing the dataframe\n",
    "df"
   ]
  },
  {
   "cell_type": "markdown",
   "id": "5ccfd5ea",
   "metadata": {},
   "source": [
    "## Creating a DataFrame from a dictionary"
   ]
  },
  {
   "cell_type": "code",
   "execution_count": 19,
   "id": "88431484",
   "metadata": {},
   "outputs": [],
   "source": [
    "# creating a list of items\n",
    "states = ['California', 'Texas', 'Florida', 'New York']\n",
    "population = [34553, 1123422, 45777, 4455]"
   ]
  },
  {
   "cell_type": "code",
   "execution_count": 20,
   "id": "1737d22d",
   "metadata": {},
   "outputs": [],
   "source": [
    "# storing lists with a dictionory\n",
    "dict_states = { 'States':states, 'Population':population }"
   ]
  },
  {
   "cell_type": "code",
   "execution_count": 21,
   "id": "55e20b63",
   "metadata": {},
   "outputs": [],
   "source": [
    "# creating the dataframe\n",
    "df_population = pd.DataFrame(dict_states)"
   ]
  },
  {
   "cell_type": "code",
   "execution_count": 22,
   "id": "dc5f6ca3",
   "metadata": {},
   "outputs": [
    {
     "data": {
      "text/html": [
       "<div>\n",
       "<style scoped>\n",
       "    .dataframe tbody tr th:only-of-type {\n",
       "        vertical-align: middle;\n",
       "    }\n",
       "\n",
       "    .dataframe tbody tr th {\n",
       "        vertical-align: top;\n",
       "    }\n",
       "\n",
       "    .dataframe thead th {\n",
       "        text-align: right;\n",
       "    }\n",
       "</style>\n",
       "<table border=\"1\" class=\"dataframe\">\n",
       "  <thead>\n",
       "    <tr style=\"text-align: right;\">\n",
       "      <th></th>\n",
       "      <th>States</th>\n",
       "      <th>Population</th>\n",
       "    </tr>\n",
       "  </thead>\n",
       "  <tbody>\n",
       "    <tr>\n",
       "      <th>0</th>\n",
       "      <td>California</td>\n",
       "      <td>34553</td>\n",
       "    </tr>\n",
       "    <tr>\n",
       "      <th>1</th>\n",
       "      <td>Texas</td>\n",
       "      <td>1123422</td>\n",
       "    </tr>\n",
       "    <tr>\n",
       "      <th>2</th>\n",
       "      <td>Florida</td>\n",
       "      <td>45777</td>\n",
       "    </tr>\n",
       "    <tr>\n",
       "      <th>3</th>\n",
       "      <td>New York</td>\n",
       "      <td>4455</td>\n",
       "    </tr>\n",
       "  </tbody>\n",
       "</table>\n",
       "</div>"
      ],
      "text/plain": [
       "       States  Population\n",
       "0  California       34553\n",
       "1       Texas     1123422\n",
       "2     Florida       45777\n",
       "3    New York        4455"
      ]
     },
     "execution_count": 22,
     "metadata": {},
     "output_type": "execute_result"
    }
   ],
   "source": [
    "# showing the data frame\n",
    "df_population"
   ]
  },
  {
   "cell_type": "markdown",
   "id": "c33aca9a",
   "metadata": {},
   "source": [
    "## Creating a DataFrame from a csv file"
   ]
  },
  {
   "cell_type": "code",
   "execution_count": null,
   "id": "dc427e9a",
   "metadata": {},
   "outputs": [],
   "source": [
    "# reading the csv file\n",
    "df_exams = pd.read_csv('StudentPerformance.csv')"
   ]
  },
  {
   "cell_type": "code",
   "execution_count": null,
   "id": "272c1b2d",
   "metadata": {},
   "outputs": [],
   "source": [
    "# show the first 5 rows in a dataframe\n",
    "df_exams.head()"
   ]
  },
  {
   "cell_type": "code",
   "execution_count": null,
   "id": "ec8d0d1b",
   "metadata": {},
   "outputs": [],
   "source": [
    "# showing all the rows in the csv file\n"
   ]
  }
 ],
 "metadata": {
  "kernelspec": {
   "display_name": "Python 3 (ipykernel)",
   "language": "python",
   "name": "python3"
  },
  "language_info": {
   "codemirror_mode": {
    "name": "ipython",
    "version": 3
   },
   "file_extension": ".py",
   "mimetype": "text/x-python",
   "name": "python",
   "nbconvert_exporter": "python",
   "pygments_lexer": "ipython3",
   "version": "3.9.12"
  }
 },
 "nbformat": 4,
 "nbformat_minor": 5
}
