{
 "cells": [
  {
   "cell_type": "code",
   "execution_count": null,
   "id": "5171fe7b",
   "metadata": {},
   "outputs": [],
   "source": [
    "import pandas as pd"
   ]
  },
  {
   "cell_type": "code",
   "execution_count": null,
   "id": "020b1bb5",
   "metadata": {},
   "outputs": [],
   "source": [
    "# reading the csv file\n",
    "df_population_raw = pd.read_csv('')"
   ]
  },
  {
   "cell_type": "code",
   "execution_count": null,
   "id": "38cbb163",
   "metadata": {},
   "outputs": [],
   "source": [
    "# first look at the dataset\n",
    "df_popluation_raw"
   ]
  },
  {
   "cell_type": "code",
   "execution_count": null,
   "id": "954a6d32",
   "metadata": {},
   "outputs": [],
   "source": [
    "# dropping null values\n",
    "df_population_raw.dropna(inplace=True)"
   ]
  },
  {
   "cell_type": "code",
   "execution_count": null,
   "id": "722f0c66",
   "metadata": {},
   "outputs": [],
   "source": [
    "# making a pivot table\n",
    "df_pivot = df_population_raw.pivot(index='year', \n",
    "                        columns='country', \n",
    "                        values='population')"
   ]
  },
  {
   "cell_type": "code",
   "execution_count": null,
   "id": "2fc1fd87",
   "metadata": {},
   "outputs": [],
   "source": [
    "# selecting some countries\n",
    "df_pivot = df_pivot[['United States', 'India', 'China', 'Indonesia', 'Brazil']]"
   ]
  },
  {
   "cell_type": "code",
   "execution_count": null,
   "id": "c3180e3a",
   "metadata": {},
   "outputs": [],
   "source": [
    "# showing pivot table\n",
    "df_pivot"
   ]
  },
  {
   "cell_type": "code",
   "execution_count": null,
   "id": "68a98397",
   "metadata": {},
   "outputs": [],
   "source": [
    "# visualizations\n",
    "# lineplot\n",
    "df_pivot.plot(kind='line', \n",
    "              xlabel='Year', \n",
    "              ylabel='Population', \n",
    "              title='Population (1955-2020)',\n",
    "             figsize=(8,4))"
   ]
  },
  {
   "cell_type": "code",
   "execution_count": null,
   "id": "7f0d332f",
   "metadata": {},
   "outputs": [],
   "source": [
    "# barplot\n",
    "# selecting only one year(2020)\n",
    "df_pivot_2020 = df_pivot[df_pivot.index.isin([2020])]"
   ]
  },
  {
   "cell_type": "code",
   "execution_count": null,
   "id": "5a257ecf",
   "metadata": {},
   "outputs": [],
   "source": [
    "# showing new dataframe\n",
    "df_pivot_2020"
   ]
  },
  {
   "cell_type": "code",
   "execution_count": null,
   "id": "3afa6958",
   "metadata": {},
   "outputs": [],
   "source": [
    "# transpose dataframe from rows to columns or viceversa\n",
    "df_pivot_2020 = df_pivot.T"
   ]
  },
  {
   "cell_type": "code",
   "execution_count": null,
   "id": "2eee0f99",
   "metadata": {},
   "outputs": [],
   "source": [
    "# making the barplot\n",
    "df_pivot_2020.plot(kind='bar', \n",
    "                   color='orange', \n",
    "                   xlabel='Year', \n",
    "                   ylabel='Population',\n",
    "                  title= 'Population 2020')"
   ]
  },
  {
   "cell_type": "code",
   "execution_count": null,
   "id": "3a90c286",
   "metadata": {},
   "outputs": [],
   "source": [
    "# selecting a few years\n",
    "df_pivot_sample = df_pivot[df_pivot.index.isin([2020, 1980, 200, 1970, 1977])]"
   ]
  },
  {
   "cell_type": "code",
   "execution_count": null,
   "id": "e1cace01",
   "metadata": {},
   "outputs": [],
   "source": [
    "# making a grouped chart\n",
    "df_pivot_sample.plot(kind='bar', xlabel='Year', \n",
    "                   ylabel='Population')"
   ]
  },
  {
   "cell_type": "code",
   "execution_count": null,
   "id": "a55039ab",
   "metadata": {},
   "outputs": [],
   "source": [
    "# making pie charts\n",
    "# changing the column name"
   ]
  }
 ],
 "metadata": {
  "kernelspec": {
   "display_name": "Python 3 (ipykernel)",
   "language": "python",
   "name": "python3"
  },
  "language_info": {
   "codemirror_mode": {
    "name": "ipython",
    "version": 3
   },
   "file_extension": ".py",
   "mimetype": "text/x-python",
   "name": "python",
   "nbconvert_exporter": "python",
   "pygments_lexer": "ipython3",
   "version": "3.9.12"
  }
 },
 "nbformat": 4,
 "nbformat_minor": 5
}
