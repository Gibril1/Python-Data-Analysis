{
 "cells": [
  {
   "cell_type": "code",
   "execution_count": 1,
   "id": "0c594651",
   "metadata": {},
   "outputs": [],
   "source": [
    "import pandas as pd"
   ]
  },
  {
   "cell_type": "code",
   "execution_count": null,
   "id": "0c7572bd",
   "metadata": {},
   "outputs": [],
   "source": []
  },
  {
   "cell_type": "code",
   "execution_count": null,
   "id": "2b0daa21",
   "metadata": {},
   "outputs": [],
   "source": [
    "# the pivot() method reshapes data based on column values. it does not support data aggregation\n",
    "#  the pivot_table() method creates a spreadsheet-style pivot table"
   ]
  },
  {
   "cell_type": "code",
   "execution_count": null,
   "id": "02339222",
   "metadata": {},
   "outputs": [],
   "source": []
  }
 ],
 "metadata": {
  "kernelspec": {
   "display_name": "Python 3 (ipykernel)",
   "language": "python",
   "name": "python3"
  },
  "language_info": {
   "codemirror_mode": {
    "name": "ipython",
    "version": 3
   },
   "file_extension": ".py",
   "mimetype": "text/x-python",
   "name": "python",
   "nbconvert_exporter": "python",
   "pygments_lexer": "ipython3",
   "version": "3.9.12"
  }
 },
 "nbformat": 4,
 "nbformat_minor": 5
}
