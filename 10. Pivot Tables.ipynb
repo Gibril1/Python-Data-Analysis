{
 "cells": [
  {
   "cell_type": "code",
   "execution_count": 1,
   "id": "0c594651",
   "metadata": {},
   "outputs": [],
   "source": [
    "import pandas as pd"
   ]
  },
  {
   "cell_type": "code",
   "execution_count": null,
   "id": "0c7572bd",
   "metadata": {},
   "outputs": [],
   "source": []
  },
  {
   "cell_type": "code",
   "execution_count": null,
   "id": "2b0daa21",
   "metadata": {},
   "outputs": [],
   "source": [
    "# the pivot() method reshapes data based on column values. it does not support data aggregation\n",
    "#  the pivot_table() method creates a spreadsheet-style pivot table"
   ]
  },
  {
   "cell_type": "code",
   "execution_count": null,
   "id": "02339222",
   "metadata": {},
   "outputs": [],
   "source": [
    "# read and show the dataset\n",
    "df_gdp = pd.read_csv('')"
   ]
  },
  {
   "cell_type": "code",
   "execution_count": null,
   "id": "234b4998",
   "metadata": {},
   "outputs": [],
   "source": [
    "# reshape the dataframe with the pivot method\n",
    "df_gdp.pivot(index='year', columns='country', values='gdppc')"
   ]
  },
  {
   "cell_type": "code",
   "execution_count": null,
   "id": "dc69c9e9",
   "metadata": {},
   "outputs": [],
   "source": [
    "# the pivot table method\n",
    "# read and show the dataset\n",
    "df_sales = pd.read_excel(\"\")"
   ]
  },
  {
   "cell_type": "code",
   "execution_count": null,
   "id": "6347e910",
   "metadata": {},
   "outputs": [],
   "source": [
    "# make a pivot table and an aggregate function\n",
    "df_sales = pd.pivot_table(index='Gender', aggfunc='sum')"
   ]
  },
  {
   "cell_type": "code",
   "execution_count": null,
   "id": "8dbdd9b7",
   "metadata": {},
   "outputs": [],
   "source": [
    "# make a pivot table, add an aggregate function and select sme columns\n",
    "df_sales = pd.pivot_table(index='Gender', \n",
    "                          values=['Quantity', 'Total'],\n",
    "                          aggfunc='sum')"
   ]
  },
  {
   "cell_type": "code",
   "execution_count": null,
   "id": "87f13600",
   "metadata": {},
   "outputs": [],
   "source": [
    "# make a pivot table that shows how much male and female spend in each category\n",
    "df_sales = pd.pivot_table(index='Gender', \n",
    "                          columns='Product line'\n",
    "                          values='Total',\n",
    "                          aggfunc='sum')"
   ]
  }
 ],
 "metadata": {
  "kernelspec": {
   "display_name": "Python 3 (ipykernel)",
   "language": "python",
   "name": "python3"
  },
  "language_info": {
   "codemirror_mode": {
    "name": "ipython",
    "version": 3
   },
   "file_extension": ".py",
   "mimetype": "text/x-python",
   "name": "python",
   "nbconvert_exporter": "python",
   "pygments_lexer": "ipython3",
   "version": "3.9.12"
  }
 },
 "nbformat": 4,
 "nbformat_minor": 5
}
